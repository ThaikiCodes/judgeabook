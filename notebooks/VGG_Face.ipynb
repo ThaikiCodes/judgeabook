{
 "cells": [
  {
   "cell_type": "markdown",
   "metadata": {},
   "source": [
    "VGG Face Basemodel architecture"
   ]
  },
  {
   "cell_type": "code",
   "execution_count": 8,
   "metadata": {},
   "outputs": [],
   "source": [
    "import os\n",
    "import gdown\n",
    "import tensorflow as tf\n",
    "from keras.models import Model, Sequential\n",
    "from judgeabook.deepface.commons import functions\n",
    "\n",
    "# ---------------------------------------\n",
    "\n",
    "tf_version = int(tf.__version__.split(\".\", maxsplit=1)[0])\n",
    "\n",
    "if tf_version == 1:\n",
    "    from keras.models import Model, Sequential\n",
    "    from keras.layers import (\n",
    "        Convolution2D,\n",
    "        ZeroPadding2D,\n",
    "        MaxPooling2D,\n",
    "        Flatten,\n",
    "        Dropout,\n",
    "        Activation,\n",
    "    )\n",
    "else:\n",
    "    from keras.models import Model, Sequential\n",
    "    from keras.layers import (\n",
    "        Convolution2D,\n",
    "        ZeroPadding2D,\n",
    "        MaxPooling2D,\n",
    "        Flatten,\n",
    "        Dropout,\n",
    "        Activation,\n",
    "    )\n",
    "\n",
    "# ---------------------------------------\n",
    "\n",
    "\n",
    "def baseModel():\n",
    "    model = Sequential()\n",
    "    model.add(ZeroPadding2D((1, 1), input_shape=(224, 224, 3)))\n",
    "    model.add(Convolution2D(64, (3, 3), activation=\"relu\"))\n",
    "    model.add(ZeroPadding2D((1, 1)))\n",
    "    model.add(Convolution2D(64, (3, 3), activation=\"relu\"))\n",
    "    model.add(MaxPooling2D((2, 2), strides=(2, 2)))\n",
    "\n",
    "    model.add(ZeroPadding2D((1, 1)))\n",
    "    model.add(Convolution2D(128, (3, 3), activation=\"relu\"))\n",
    "    model.add(ZeroPadding2D((1, 1)))\n",
    "    model.add(Convolution2D(128, (3, 3), activation=\"relu\"))\n",
    "    model.add(MaxPooling2D((2, 2), strides=(2, 2)))\n",
    "\n",
    "    model.add(ZeroPadding2D((1, 1)))\n",
    "    model.add(Convolution2D(256, (3, 3), activation=\"relu\"))\n",
    "    model.add(ZeroPadding2D((1, 1)))\n",
    "    model.add(Convolution2D(256, (3, 3), activation=\"relu\"))\n",
    "    model.add(ZeroPadding2D((1, 1)))\n",
    "    model.add(Convolution2D(256, (3, 3), activation=\"relu\"))\n",
    "    model.add(MaxPooling2D((2, 2), strides=(2, 2)))\n",
    "\n",
    "    model.add(ZeroPadding2D((1, 1)))\n",
    "    model.add(Convolution2D(512, (3, 3), activation=\"relu\"))\n",
    "    model.add(ZeroPadding2D((1, 1)))\n",
    "    model.add(Convolution2D(512, (3, 3), activation=\"relu\"))\n",
    "    model.add(ZeroPadding2D((1, 1)))\n",
    "    model.add(Convolution2D(512, (3, 3), activation=\"relu\"))\n",
    "    model.add(MaxPooling2D((2, 2), strides=(2, 2)))\n",
    "\n",
    "    model.add(ZeroPadding2D((1, 1)))\n",
    "    model.add(Convolution2D(512, (3, 3), activation=\"relu\"))\n",
    "    model.add(ZeroPadding2D((1, 1)))\n",
    "    model.add(Convolution2D(512, (3, 3), activation=\"relu\"))\n",
    "    model.add(ZeroPadding2D((1, 1)))\n",
    "    model.add(Convolution2D(512, (3, 3), activation=\"relu\"))\n",
    "    model.add(MaxPooling2D((2, 2), strides=(2, 2)))\n",
    "\n",
    "    model.add(Convolution2D(4096, (7, 7), activation=\"relu\"))\n",
    "    model.add(Dropout(0.5))\n",
    "    model.add(Convolution2D(4096, (1, 1), activation=\"relu\"))\n",
    "    model.add(Dropout(0.5))\n",
    "    model.add(Convolution2D(2622, (1, 1)))\n",
    "    model.add(Flatten())\n",
    "    model.add(Activation(\"softmax\"))\n",
    "\n",
    "    return model\n",
    "\n",
    "\n",
    "# url = 'https://drive.google.com/uc?id=1CPSeum3HpopfomUEK1gybeuIVoeJT_Eo'\n",
    "\n",
    "\n",
    "def loadModel(\n",
    "    url=\"https://github.com/serengil/deepface_models/releases/download/v1.0/vgg_face_weights.h5\",\n",
    "):\n",
    "\n",
    "    model = baseModel()\n",
    "\n",
    "    # -----------------------------------\n",
    "\n",
    "    home = functions.get_deepface_home()\n",
    "    output = home + \"/.deepface/weights/vgg_face_weights.h5\"\n",
    "\n",
    "    if os.path.isfile(output) != True:\n",
    "        print(\"vgg_face_weights.h5 will be downloaded...\")\n",
    "        gdown.download(url, output, quiet=False)\n",
    "\n",
    "    # -----------------------------------\n",
    "\n",
    "    model.load_weights(output)\n",
    "\n",
    "    # -----------------------------------\n",
    "\n",
    "    # TO-DO: why?\n",
    "    vgg_face_descriptor = Model(inputs=model.layers[0].input, outputs=model.layers[-2].output)\n",
    "\n",
    "    return vgg_face_descriptor"
   ]
  },
  {
   "cell_type": "code",
   "execution_count": 2,
   "metadata": {},
   "outputs": [
    {
     "ename": "NameError",
     "evalue": "name 'baseModel' is not defined",
     "output_type": "error",
     "traceback": [
      "\u001b[0;31m---------------------------------------------------------------------------\u001b[0m",
      "\u001b[0;31mNameError\u001b[0m                                 Traceback (most recent call last)",
      "Cell \u001b[0;32mIn[2], line 1\u001b[0m\n\u001b[0;32m----> 1\u001b[0m model \u001b[39m=\u001b[39m baseModel()\n",
      "\u001b[0;31mNameError\u001b[0m: name 'baseModel' is not defined"
     ]
    }
   ],
   "source": [
    "model = baseModel()"
   ]
  },
  {
   "cell_type": "code",
   "execution_count": 1,
   "metadata": {},
   "outputs": [
    {
     "ename": "NameError",
     "evalue": "name 'model' is not defined",
     "output_type": "error",
     "traceback": [
      "\u001b[0;31m---------------------------------------------------------------------------\u001b[0m",
      "\u001b[0;31mNameError\u001b[0m                                 Traceback (most recent call last)",
      "Cell \u001b[0;32mIn[1], line 1\u001b[0m\n\u001b[0;32m----> 1\u001b[0m model\u001b[39m.\u001b[39msummary()\n",
      "\u001b[0;31mNameError\u001b[0m: name 'model' is not defined"
     ]
    }
   ],
   "source": [
    "model.summary()"
   ]
  },
  {
   "cell_type": "markdown",
   "metadata": {},
   "source": [
    "Extended Model (Emotion)"
   ]
  },
  {
   "cell_type": "code",
   "execution_count": 17,
   "metadata": {},
   "outputs": [],
   "source": [
    "import os\n",
    "import gdown\n",
    "import tensorflow as tf\n",
    "from judgeabook.deepface.commons import functions\n",
    "\n",
    "# -------------------------------------------\n",
    "# pylint: disable=line-too-long\n",
    "# -------------------------------------------\n",
    "# dependency configuration\n",
    "tf_version = int(tf.__version__.split(\".\", maxsplit=1)[0])\n",
    "\n",
    "if tf_version == 1:\n",
    "    from keras.models import Sequential\n",
    "    from keras.layers import Conv2D, MaxPooling2D, AveragePooling2D, Flatten, Dense, Dropout\n",
    "elif tf_version == 2:\n",
    "    from keras.models import Sequential\n",
    "    from keras.layers import (\n",
    "        Conv2D,\n",
    "        MaxPooling2D,\n",
    "        AveragePooling2D,\n",
    "        Flatten,\n",
    "        Dense,\n",
    "        Dropout,\n",
    "    )\n",
    "# -------------------------------------------\n",
    "\n",
    "# Labels for the emotions that can be detected by the model.\n",
    "labels = [\"angry\", \"disgust\", \"fear\", \"happy\", \"sad\", \"surprise\", \"neutral\"]\n",
    "\n",
    "\n",
    "def loadModel(\n",
    "    url=\"https://github.com/serengil/deepface_models/releases/download/v1.0/facial_expression_model_weights.h5\",\n",
    "):\n",
    "\n",
    "    num_classes = 7\n",
    "\n",
    "    model = Sequential()\n",
    "\n",
    "    # 1st convolution layer\n",
    "    model.add(Conv2D(64, (5, 5), activation=\"relu\", input_shape=(48, 48, 1)))\n",
    "    model.add(MaxPooling2D(pool_size=(5, 5), strides=(2, 2)))\n",
    "\n",
    "    # 2nd convolution layer\n",
    "    model.add(Conv2D(64, (3, 3), activation=\"relu\"))\n",
    "    model.add(Conv2D(64, (3, 3), activation=\"relu\"))\n",
    "    model.add(AveragePooling2D(pool_size=(3, 3), strides=(2, 2)))\n",
    "\n",
    "    # 3rd convolution layer\n",
    "    model.add(Conv2D(128, (3, 3), activation=\"relu\"))\n",
    "    model.add(Conv2D(128, (3, 3), activation=\"relu\"))\n",
    "    model.add(AveragePooling2D(pool_size=(3, 3), strides=(2, 2)))\n",
    "\n",
    "    model.add(Flatten())\n",
    "\n",
    "    # fully connected neural networks\n",
    "    model.add(Dense(1024, activation=\"relu\"))\n",
    "    model.add(Dropout(0.2))\n",
    "    model.add(Dense(1024, activation=\"relu\"))\n",
    "    model.add(Dropout(0.2))\n",
    "\n",
    "    model.add(Dense(num_classes, activation=\"softmax\"))\n",
    "\n",
    "    # ----------------------------\n",
    "\n",
    "    home = functions.get_deepface_home()\n",
    "\n",
    "    if os.path.isfile(home + \"/facial_expression_model_weights.h5\") != True:\n",
    "        print(\"facial_expression_model_weights.h5 will be downloaded...\")\n",
    "\n",
    "        output = home + \"/facial_expression_model_weights.h5\"\n",
    "        gdown.download(url, output, quiet=False)\n",
    "\n",
    "    model.load_weights(home + \"/facial_expression_model_weights.h5\")\n",
    "\n",
    "    return model"
   ]
  },
  {
   "cell_type": "code",
   "execution_count": 18,
   "metadata": {},
   "outputs": [
    {
     "data": {
      "text/plain": [
       "<keras.engine.sequential.Sequential at 0x7f2498692860>"
      ]
     },
     "execution_count": 18,
     "metadata": {},
     "output_type": "execute_result"
    }
   ],
   "source": [
    "model_emo = loadModel()\n",
    "model_emo.summary()"
   ]
  }
 ],
 "metadata": {
  "kernelspec": {
   "display_name": "judgeabook",
   "language": "python",
   "name": "python3"
  },
  "language_info": {
   "codemirror_mode": {
    "name": "ipython",
    "version": 3
   },
   "file_extension": ".py",
   "mimetype": "text/x-python",
   "name": "python",
   "nbconvert_exporter": "python",
   "pygments_lexer": "ipython3",
   "version": "3.10.6"
  },
  "orig_nbformat": 4
 },
 "nbformat": 4,
 "nbformat_minor": 2
}
